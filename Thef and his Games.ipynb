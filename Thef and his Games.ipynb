{
 "cells": [
  {
   "cell_type": "markdown",
   "metadata": {},
   "source": [
    "Statement\n",
    "In a far away Galaxy of Tilky Way, there was a planet Tarth where the sport of Tompetitive Toding was very popular. According to legends, there lived a setter known to give advanced string manipulation problems disguised as cakewalk problems.\n",
    "\n",
    "thef, the king of thefland loved the letter 't'. And now, he has made a game on it with his ministers! His ministers would give him 2 strings, a and b. thef has to make them exactly same, for which he can do the following-\n",
    "\n",
    "Step 1 - He MAY reverse at most one of the strings. (This step is optional, and he can choose to reverse any one of the strings, or leave both of them as it is.)\n",
    "\n",
    "Step 2 - He replaces the first character of both the current strings to 't'. This operation is compulsory.\n",
    "\n",
    "He wins if he is able to make both the strings same (i.e. an exact match) after doing these two steps. Given the strings a and b, tell if thef can win or not!\n",
    "\n",
    "Input:\n",
    "The first line of input contains T - The number of test cases in the file.\n",
    "\n",
    "The first and only line of every test case contains the 2 strings, a and b separated by a single space.\n",
    "\n",
    "Output:\n",
    "\n",
    "For each test case, print Yes if thef wins, else print No\n",
    "\n",
    "Constraints\n",
    "\n",
    "1≤T≤104\n",
    "\n",
    "1≤|a|,|b|≤100, where |a| refers to the length of string a.\n",
    "\n",
    "a and b will have ONLY lower case English alphabets.\n",
    "\n",
    "Subtasks\n",
    "\n",
    "100 points- Original Constraints.\n",
    "\n",
    "Sample Input:\n",
    "\n",
    "3\n",
    "\n",
    "man nam\n",
    "\n",
    "abcd ebcd\n",
    "\n",
    "abd ebf\n",
    "\n",
    "Sample Output:\n",
    "\n",
    "Yes\n",
    "\n",
    "Yes\n",
    "\n",
    "No\n",
    "\n",
    "\n",
    "EXPLANATION:\n",
    "For the first test case, you can reverse man to nam and then replace both first characters of both strings to get tam. You could also have reversed nam to man, and then replaced the first two characters to get tan. Either of these two methods leads thef to win the game.\n",
    "For the second test case, you can simply skip reversing any of the strings and just replace the first characters by t to get both the strings as tbcd.\n",
    "\n",
    "The 2 strings cannot be made equal in the third test case."
   ]
  },
  {
   "cell_type": "code",
   "execution_count": 46,
   "metadata": {},
   "outputs": [
    {
     "data": {
      "text/plain": [
       "'abcd'"
      ]
     },
     "execution_count": 46,
     "metadata": {},
     "output_type": "execute_result"
    }
   ],
   "source": [
    "s1,s2 = (input(\"Enter String\")).split(\" \")\n",
    "s1"
   ]
  },
  {
   "cell_type": "code",
   "execution_count": 52,
   "metadata": {},
   "outputs": [],
   "source": [
    "a=list(s1)\n",
    "b=list(s2)    "
   ]
  },
  {
   "cell_type": "code",
   "execution_count": 53,
   "metadata": {},
   "outputs": [],
   "source": [
    "#reverse 1st string and match\n",
    "c=a[::-1]\n",
    "d=b\n",
    "c[0]=d[0]='t'\n",
    "if c==d:\n",
    "    print(\"yes\")"
   ]
  },
  {
   "cell_type": "code",
   "execution_count": 54,
   "metadata": {},
   "outputs": [],
   "source": [
    "e=a\n",
    "f=b[::-1]\n",
    "e[0]=f[0]='t'\n",
    "if e==f:\n",
    "    print(\"yes\")"
   ]
  },
  {
   "cell_type": "code",
   "execution_count": 55,
   "metadata": {},
   "outputs": [
    {
     "name": "stdout",
     "output_type": "stream",
     "text": [
      "yes\n"
     ]
    }
   ],
   "source": [
    "g=a\n",
    "h=b\n",
    "g[0]=h[0]='t'\n",
    "if g==h:\n",
    "    print(\"yes\")"
   ]
  },
  {
   "cell_type": "code",
   "execution_count": 56,
   "metadata": {},
   "outputs": [],
   "source": [
    "def check(x):\n",
    "    s1,s2 = (x).split(\" \")\n",
    "    a=list(s1)\n",
    "    b=list(s2)\n",
    "    if(len(a)==len(b)):\n",
    "        c=a[::-1]\n",
    "        d=b\n",
    "        c[0]=d[0]='t'\n",
    "        e=a\n",
    "        f=b[::-1]\n",
    "        e[0]=f[0]='t'\n",
    "        g=a\n",
    "        h=b\n",
    "        g[0]=h[0]='t'    \n",
    "        if c==d:\n",
    "            print(\"Yes\")\n",
    "            return\n",
    "        elif e==f:\n",
    "            print(\"Yes\")\n",
    "            return\n",
    "        elif g==h:\n",
    "            print(\"Yes\")\n",
    "            return\n",
    "        else:\n",
    "            print(\"No\")\n",
    "    else:\n",
    "        print(\"No\")"
   ]
  },
  {
   "cell_type": "code",
   "execution_count": 57,
   "metadata": {},
   "outputs": [
    {
     "name": "stdout",
     "output_type": "stream",
     "text": [
      "Yes\n",
      "Yes\n",
      "No\n"
     ]
    }
   ],
   "source": [
    "for i in range(int(input(\"enter num: \"))):\n",
    "    check(input(\"enter string: \"))"
   ]
  },
  {
   "cell_type": "code",
   "execution_count": 58,
   "metadata": {},
   "outputs": [
    {
     "name": "stdout",
     "output_type": "stream",
     "text": [
      "Yes\n",
      "Yes\n",
      "No\n"
     ]
    }
   ],
   "source": [
    "check(\"man nam\")\n",
    "check(\"abcd ebcd\")\n",
    "check(\"abd ebf\")"
   ]
  },
  {
   "cell_type": "code",
   "execution_count": null,
   "metadata": {},
   "outputs": [],
   "source": []
  }
 ],
 "metadata": {
  "interpreter": {
   "hash": "a1b9dbb76a64c2c55fbc6cd023b5989e560715ba95f302873b8823311d92ea1e"
  },
  "kernelspec": {
   "display_name": "Python 3.8.9 64-bit",
   "language": "python",
   "name": "python3"
  },
  "language_info": {
   "codemirror_mode": {
    "name": "ipython",
    "version": 3
   },
   "file_extension": ".py",
   "mimetype": "text/x-python",
   "name": "python",
   "nbconvert_exporter": "python",
   "pygments_lexer": "ipython3",
   "version": "3.8.9"
  },
  "orig_nbformat": 4
 },
 "nbformat": 4,
 "nbformat_minor": 2
}
